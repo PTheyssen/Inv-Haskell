{
 "cells": [
  {
   "cell_type": "markdown",
   "metadata": {},
   "source": [
    "### Plotting benchmarks for automatic inversion in Haskell"
   ]
  },
  {
   "cell_type": "code",
   "execution_count": 29,
   "metadata": {},
   "outputs": [],
   "source": [
    "%matplotlib inline\n",
    "import pandas as pd"
   ]
  },
  {
   "cell_type": "code",
   "execution_count": 30,
   "metadata": {},
   "outputs": [],
   "source": [
    "df = pd.read_csv(\"./data/benchmark-inverses.csv\")"
   ]
  },
  {
   "cell_type": "code",
   "execution_count": 31,
   "metadata": {},
   "outputs": [
    {
     "data": {
      "text/html": [
       "<div>\n",
       "<style scoped>\n",
       "    .dataframe tbody tr th:only-of-type {\n",
       "        vertical-align: middle;\n",
       "    }\n",
       "\n",
       "    .dataframe tbody tr th {\n",
       "        vertical-align: top;\n",
       "    }\n",
       "\n",
       "    .dataframe thead th {\n",
       "        text-align: right;\n",
       "    }\n",
       "</style>\n",
       "<table border=\"1\" class=\"dataframe\">\n",
       "  <thead>\n",
       "    <tr style=\"text-align: right;\">\n",
       "      <th></th>\n",
       "      <th>Name</th>\n",
       "      <th>Mean</th>\n",
       "      <th>MeanLB</th>\n",
       "      <th>MeanUB</th>\n",
       "      <th>Stddev</th>\n",
       "      <th>StddevLB</th>\n",
       "      <th>StddevUB</th>\n",
       "    </tr>\n",
       "  </thead>\n",
       "  <tbody>\n",
       "    <tr>\n",
       "      <th>0</th>\n",
       "      <td>removeAt1/4 [1,2,3,4,5,6]</td>\n",
       "      <td>3.644889e-05</td>\n",
       "      <td>3.494821e-05</td>\n",
       "      <td>3.950691e-05</td>\n",
       "      <td>6.580344e-06</td>\n",
       "      <td>4.331919e-06</td>\n",
       "      <td>9.478631e-06</td>\n",
       "    </tr>\n",
       "    <tr>\n",
       "      <th>1</th>\n",
       "      <td>removeAt1/0 [3,2,1]</td>\n",
       "      <td>1.854999e-06</td>\n",
       "      <td>1.841214e-06</td>\n",
       "      <td>1.879986e-06</td>\n",
       "      <td>6.214776e-08</td>\n",
       "      <td>3.362587e-08</td>\n",
       "      <td>9.521382e-08</td>\n",
       "    </tr>\n",
       "    <tr>\n",
       "      <th>2</th>\n",
       "      <td>removeAt1/50 [0..300]</td>\n",
       "      <td>8.530683e-01</td>\n",
       "      <td>8.480418e-01</td>\n",
       "      <td>8.584080e-01</td>\n",
       "      <td>5.664112e-03</td>\n",
       "      <td>3.130194e-03</td>\n",
       "      <td>7.993815e-03</td>\n",
       "    </tr>\n",
       "    <tr>\n",
       "      <th>3</th>\n",
       "      <td>removeAt1Manual/4 [1,2,3,4,5,6]</td>\n",
       "      <td>2.111210e-08</td>\n",
       "      <td>2.109958e-08</td>\n",
       "      <td>2.112877e-08</td>\n",
       "      <td>5.064652e-11</td>\n",
       "      <td>3.836946e-11</td>\n",
       "      <td>6.572093e-11</td>\n",
       "    </tr>\n",
       "    <tr>\n",
       "      <th>4</th>\n",
       "      <td>removeAt1Manual/0 [3,2,1]</td>\n",
       "      <td>1.738207e-08</td>\n",
       "      <td>1.735990e-08</td>\n",
       "      <td>1.743745e-08</td>\n",
       "      <td>1.037330e-10</td>\n",
       "      <td>5.230277e-11</td>\n",
       "      <td>2.178417e-10</td>\n",
       "    </tr>\n",
       "    <tr>\n",
       "      <th>5</th>\n",
       "      <td>removeAt1Manual/50 [0..300]</td>\n",
       "      <td>1.083121e-06</td>\n",
       "      <td>1.080968e-06</td>\n",
       "      <td>1.087956e-06</td>\n",
       "      <td>1.078975e-08</td>\n",
       "      <td>5.985749e-09</td>\n",
       "      <td>1.669954e-08</td>\n",
       "    </tr>\n",
       "    <tr>\n",
       "      <th>6</th>\n",
       "      <td>runLengthDecoder/[1,5]</td>\n",
       "      <td>1.227987e+00</td>\n",
       "      <td>1.218960e+00</td>\n",
       "      <td>1.242982e+00</td>\n",
       "      <td>1.435283e-02</td>\n",
       "      <td>2.180459e-03</td>\n",
       "      <td>1.840478e-02</td>\n",
       "    </tr>\n",
       "    <tr>\n",
       "      <th>7</th>\n",
       "      <td>runLengthDecoder/[1,5,2,2,3,3]</td>\n",
       "      <td>7.756473e+00</td>\n",
       "      <td>7.705853e+00</td>\n",
       "      <td>7.820679e+00</td>\n",
       "      <td>6.832695e-02</td>\n",
       "      <td>2.388380e-02</td>\n",
       "      <td>9.301836e-02</td>\n",
       "    </tr>\n",
       "    <tr>\n",
       "      <th>8</th>\n",
       "      <td>runLengthDecoderManual/[1,5]</td>\n",
       "      <td>8.614614e-08</td>\n",
       "      <td>8.576882e-08</td>\n",
       "      <td>8.666789e-08</td>\n",
       "      <td>1.471185e-09</td>\n",
       "      <td>1.132366e-09</td>\n",
       "      <td>2.164855e-09</td>\n",
       "    </tr>\n",
       "    <tr>\n",
       "      <th>9</th>\n",
       "      <td>runLengthDecoderManual/[1,5,2,2,3,3]</td>\n",
       "      <td>1.692638e-07</td>\n",
       "      <td>1.686145e-07</td>\n",
       "      <td>1.703033e-07</td>\n",
       "      <td>2.722770e-09</td>\n",
       "      <td>1.894317e-09</td>\n",
       "      <td>3.991638e-09</td>\n",
       "    </tr>\n",
       "  </tbody>\n",
       "</table>\n",
       "</div>"
      ],
      "text/plain": [
       "                                   Name          Mean        MeanLB  \\\n",
       "0             removeAt1/4 [1,2,3,4,5,6]  3.644889e-05  3.494821e-05   \n",
       "1                   removeAt1/0 [3,2,1]  1.854999e-06  1.841214e-06   \n",
       "2                 removeAt1/50 [0..300]  8.530683e-01  8.480418e-01   \n",
       "3       removeAt1Manual/4 [1,2,3,4,5,6]  2.111210e-08  2.109958e-08   \n",
       "4             removeAt1Manual/0 [3,2,1]  1.738207e-08  1.735990e-08   \n",
       "5           removeAt1Manual/50 [0..300]  1.083121e-06  1.080968e-06   \n",
       "6                runLengthDecoder/[1,5]  1.227987e+00  1.218960e+00   \n",
       "7        runLengthDecoder/[1,5,2,2,3,3]  7.756473e+00  7.705853e+00   \n",
       "8          runLengthDecoderManual/[1,5]  8.614614e-08  8.576882e-08   \n",
       "9  runLengthDecoderManual/[1,5,2,2,3,3]  1.692638e-07  1.686145e-07   \n",
       "\n",
       "         MeanUB        Stddev      StddevLB      StddevUB  \n",
       "0  3.950691e-05  6.580344e-06  4.331919e-06  9.478631e-06  \n",
       "1  1.879986e-06  6.214776e-08  3.362587e-08  9.521382e-08  \n",
       "2  8.584080e-01  5.664112e-03  3.130194e-03  7.993815e-03  \n",
       "3  2.112877e-08  5.064652e-11  3.836946e-11  6.572093e-11  \n",
       "4  1.743745e-08  1.037330e-10  5.230277e-11  2.178417e-10  \n",
       "5  1.087956e-06  1.078975e-08  5.985749e-09  1.669954e-08  \n",
       "6  1.242982e+00  1.435283e-02  2.180459e-03  1.840478e-02  \n",
       "7  7.820679e+00  6.832695e-02  2.388380e-02  9.301836e-02  \n",
       "8  8.666789e-08  1.471185e-09  1.132366e-09  2.164855e-09  \n",
       "9  1.703033e-07  2.722770e-09  1.894317e-09  3.991638e-09  "
      ]
     },
     "execution_count": 31,
     "metadata": {},
     "output_type": "execute_result"
    }
   ],
   "source": [
    "df"
   ]
  },
  {
   "cell_type": "code",
   "execution_count": 20,
   "metadata": {},
   "outputs": [],
   "source": [
    "df_removeAt = df[:6]\n",
    "df_runLengthDecoder = df[6:]"
   ]
  },
  {
   "cell_type": "markdown",
   "metadata": {},
   "source": [
    "### removeAt"
   ]
  },
  {
   "cell_type": "code",
   "execution_count": 21,
   "metadata": {},
   "outputs": [
    {
     "data": {
      "text/html": [
       "<div>\n",
       "<style scoped>\n",
       "    .dataframe tbody tr th:only-of-type {\n",
       "        vertical-align: middle;\n",
       "    }\n",
       "\n",
       "    .dataframe tbody tr th {\n",
       "        vertical-align: top;\n",
       "    }\n",
       "\n",
       "    .dataframe thead th {\n",
       "        text-align: right;\n",
       "    }\n",
       "</style>\n",
       "<table border=\"1\" class=\"dataframe\">\n",
       "  <thead>\n",
       "    <tr style=\"text-align: right;\">\n",
       "      <th></th>\n",
       "      <th>Name</th>\n",
       "      <th>Mean</th>\n",
       "      <th>MeanLB</th>\n",
       "      <th>MeanUB</th>\n",
       "      <th>Stddev</th>\n",
       "      <th>StddevLB</th>\n",
       "      <th>StddevUB</th>\n",
       "    </tr>\n",
       "  </thead>\n",
       "  <tbody>\n",
       "    <tr>\n",
       "      <th>0</th>\n",
       "      <td>removeAt1/4 [1,2,3,4,5,6]</td>\n",
       "      <td>3.644889e-05</td>\n",
       "      <td>3.494821e-05</td>\n",
       "      <td>3.950691e-05</td>\n",
       "      <td>6.580344e-06</td>\n",
       "      <td>4.331919e-06</td>\n",
       "      <td>9.478631e-06</td>\n",
       "    </tr>\n",
       "    <tr>\n",
       "      <th>1</th>\n",
       "      <td>removeAt1/0 [3,2,1]</td>\n",
       "      <td>1.854999e-06</td>\n",
       "      <td>1.841214e-06</td>\n",
       "      <td>1.879986e-06</td>\n",
       "      <td>6.214776e-08</td>\n",
       "      <td>3.362587e-08</td>\n",
       "      <td>9.521382e-08</td>\n",
       "    </tr>\n",
       "    <tr>\n",
       "      <th>2</th>\n",
       "      <td>removeAt1/50 [0..300]</td>\n",
       "      <td>8.530683e-01</td>\n",
       "      <td>8.480418e-01</td>\n",
       "      <td>8.584080e-01</td>\n",
       "      <td>5.664112e-03</td>\n",
       "      <td>3.130194e-03</td>\n",
       "      <td>7.993815e-03</td>\n",
       "    </tr>\n",
       "    <tr>\n",
       "      <th>3</th>\n",
       "      <td>removeAt1Manual/4 [1,2,3,4,5,6]</td>\n",
       "      <td>2.111210e-08</td>\n",
       "      <td>2.109958e-08</td>\n",
       "      <td>2.112877e-08</td>\n",
       "      <td>5.064652e-11</td>\n",
       "      <td>3.836946e-11</td>\n",
       "      <td>6.572093e-11</td>\n",
       "    </tr>\n",
       "    <tr>\n",
       "      <th>4</th>\n",
       "      <td>removeAt1Manual/0 [3,2,1]</td>\n",
       "      <td>1.738207e-08</td>\n",
       "      <td>1.735990e-08</td>\n",
       "      <td>1.743745e-08</td>\n",
       "      <td>1.037330e-10</td>\n",
       "      <td>5.230277e-11</td>\n",
       "      <td>2.178417e-10</td>\n",
       "    </tr>\n",
       "    <tr>\n",
       "      <th>5</th>\n",
       "      <td>removeAt1Manual/50 [0..300]</td>\n",
       "      <td>1.083121e-06</td>\n",
       "      <td>1.080968e-06</td>\n",
       "      <td>1.087956e-06</td>\n",
       "      <td>1.078975e-08</td>\n",
       "      <td>5.985749e-09</td>\n",
       "      <td>1.669954e-08</td>\n",
       "    </tr>\n",
       "  </tbody>\n",
       "</table>\n",
       "</div>"
      ],
      "text/plain": [
       "                              Name          Mean        MeanLB        MeanUB  \\\n",
       "0        removeAt1/4 [1,2,3,4,5,6]  3.644889e-05  3.494821e-05  3.950691e-05   \n",
       "1              removeAt1/0 [3,2,1]  1.854999e-06  1.841214e-06  1.879986e-06   \n",
       "2            removeAt1/50 [0..300]  8.530683e-01  8.480418e-01  8.584080e-01   \n",
       "3  removeAt1Manual/4 [1,2,3,4,5,6]  2.111210e-08  2.109958e-08  2.112877e-08   \n",
       "4        removeAt1Manual/0 [3,2,1]  1.738207e-08  1.735990e-08  1.743745e-08   \n",
       "5      removeAt1Manual/50 [0..300]  1.083121e-06  1.080968e-06  1.087956e-06   \n",
       "\n",
       "         Stddev      StddevLB      StddevUB  \n",
       "0  6.580344e-06  4.331919e-06  9.478631e-06  \n",
       "1  6.214776e-08  3.362587e-08  9.521382e-08  \n",
       "2  5.664112e-03  3.130194e-03  7.993815e-03  \n",
       "3  5.064652e-11  3.836946e-11  6.572093e-11  \n",
       "4  1.037330e-10  5.230277e-11  2.178417e-10  \n",
       "5  1.078975e-08  5.985749e-09  1.669954e-08  "
      ]
     },
     "execution_count": 21,
     "metadata": {},
     "output_type": "execute_result"
    }
   ],
   "source": [
    "df_removeAt"
   ]
  },
  {
   "cell_type": "code",
   "execution_count": 33,
   "metadata": {},
   "outputs": [
    {
     "data": {
      "text/plain": [
       "<matplotlib.axes._subplots.AxesSubplot at 0x7fef266e59d0>"
      ]
     },
     "execution_count": 33,
     "metadata": {},
     "output_type": "execute_result"
    },
    {
     "data": {
      "image/png": "[encoded data removed]",
      "text/plain": [
       "<Figure size 432x288 with 1 Axes>"
      ]
     },
     "metadata": {
      "needs_background": "light"
     },
     "output_type": "display_data"
    }
   ],
   "source": [
    "df_removeAt[['Name', 'Mean']].plot.barh()"
   ]
  },
  {
   "cell_type": "markdown",
   "metadata": {},
   "source": [
    "### run length decoder"
   ]
  },
  {
   "cell_type": "code",
   "execution_count": 27,
   "metadata": {},
   "outputs": [
    {
     "data": {
      "text/html": [
       "<div>\n",
       "<style scoped>\n",
       "    .dataframe tbody tr th:only-of-type {\n",
       "        vertical-align: middle;\n",
       "    }\n",
       "\n",
       "    .dataframe tbody tr th {\n",
       "        vertical-align: top;\n",
       "    }\n",
       "\n",
       "    .dataframe thead th {\n",
       "        text-align: right;\n",
       "    }\n",
       "</style>\n",
       "<table border=\"1\" class=\"dataframe\">\n",
       "  <thead>\n",
       "    <tr style=\"text-align: right;\">\n",
       "      <th></th>\n",
       "      <th>Name</th>\n",
       "      <th>Mean</th>\n",
       "    </tr>\n",
       "  </thead>\n",
       "  <tbody>\n",
       "    <tr>\n",
       "      <th>6</th>\n",
       "      <td>runLengthDecoder/[1,5]</td>\n",
       "      <td>1.227987e+00</td>\n",
       "    </tr>\n",
       "    <tr>\n",
       "      <th>7</th>\n",
       "      <td>runLengthDecoder/[1,5,2,2,3,3]</td>\n",
       "      <td>7.756473e+00</td>\n",
       "    </tr>\n",
       "    <tr>\n",
       "      <th>8</th>\n",
       "      <td>runLengthDecoderManual/[1,5]</td>\n",
       "      <td>8.614614e-08</td>\n",
       "    </tr>\n",
       "    <tr>\n",
       "      <th>9</th>\n",
       "      <td>runLengthDecoderManual/[1,5,2,2,3,3]</td>\n",
       "      <td>1.692638e-07</td>\n",
       "    </tr>\n",
       "  </tbody>\n",
       "</table>\n",
       "</div>"
      ],
      "text/plain": [
       "                                   Name          Mean\n",
       "6                runLengthDecoder/[1,5]  1.227987e+00\n",
       "7        runLengthDecoder/[1,5,2,2,3,3]  7.756473e+00\n",
       "8          runLengthDecoderManual/[1,5]  8.614614e-08\n",
       "9  runLengthDecoderManual/[1,5,2,2,3,3]  1.692638e-07"
      ]
     },
     "execution_count": 27,
     "metadata": {},
     "output_type": "execute_result"
    }
   ],
   "source": [
    "df_runLengthDecoder[['Name', 'Mean']]"
   ]
  }
 ],
 "metadata": {
  "kernelspec": {
   "display_name": "Python 3",
   "language": "python",
   "name": "python3"
  },
  "language_info": {
   "codemirror_mode": {
    "name": "ipython",
    "version": 3
   },
   "file_extension": ".py",
   "mimetype": "text/x-python",
   "name": "python",
   "nbconvert_exporter": "python",
   "pygments_lexer": "ipython3",
   "version": "3.8.10"
  }
 },
 "nbformat": 4,
 "nbformat_minor": 4
}
